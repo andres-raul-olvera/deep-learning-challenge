{
 "cells": [
  {
   "cell_type": "markdown",
   "metadata": {},
   "source": [
    "## Preprocessing"
   ]
  },
  {
   "cell_type": "code",
   "execution_count": null,
   "metadata": {},
   "outputs": [],
   "source": [
    "# Import our dependencies\n",
    "from sklearn.model_selection import train_test_split\n",
    "from sklearn.preprocessing import StandardScaler\n",
    "import pandas as pd\n",
    "import tensorflow as tf\n",
    "\n",
    "#  Import and read the charity_data.csv.\n",
    "import pandas as pd \n",
    "application_df = pd.read_csv(\"https://static.bc-edx.com/data/dl-1-2/m21/lms/starter/charity_data.csv\")\n",
    "application_df.head()"
   ]
  },
  {
   "cell_type": "code",
   "execution_count": null,
   "metadata": {},
   "outputs": [],
   "source": [
    "# Drop the non-beneficial ID columns, 'EIN' and 'NAME'.\n",
    "application_df = application_df.drop([\"EIN\", \"NAME\"], axis=1)"
   ]
  },
  {
   "cell_type": "code",
   "execution_count": null,
   "metadata": {},
   "outputs": [],
   "source": [
    "# Determine the number of unique values in each column.\n",
    "uniquev = application_df.nunique(axis=0)\n",
    "\n",
    "uniquev"
   ]
  },
  {
   "cell_type": "code",
   "execution_count": 4,
   "metadata": {},
   "outputs": [
    {
     "data": {
      "text/plain": [
       "T3     27037\n",
       "T4      1542\n",
       "T6      1216\n",
       "T5      1173\n",
       "T19     1065\n",
       "T8       737\n",
       "T7       725\n",
       "T10      528\n",
       "T9       156\n",
       "T13       66\n",
       "T12       27\n",
       "T2        16\n",
       "T25        3\n",
       "T14        3\n",
       "T29        2\n",
       "T15        2\n",
       "T17        1\n",
       "Name: APPLICATION_TYPE, dtype: int64"
      ]
     },
     "execution_count": 4,
     "metadata": {},
     "output_type": "execute_result"
    }
   ],
   "source": [
    "# Look at APPLICATION_TYPE value counts for binning\n",
    "app_counts = application_df[\"APPLICATION_TYPE\"].value_counts()\n",
    "\n",
    "app_counts"
   ]
  },
  {
   "cell_type": "code",
   "execution_count": 5,
   "metadata": {},
   "outputs": [
    {
     "data": {
      "text/plain": [
       "T3       27037\n",
       "T4        1542\n",
       "T6        1216\n",
       "T5        1173\n",
       "T19       1065\n",
       "T8         737\n",
       "T7         725\n",
       "T10        528\n",
       "Other      276\n",
       "Name: APPLICATION_TYPE, dtype: int64"
      ]
     },
     "execution_count": 5,
     "metadata": {},
     "output_type": "execute_result"
    }
   ],
   "source": [
    "# Choose a cutoff value and create a list of application types to be replaced\n",
    "# use the variable name `application_types_to_replace`\n",
    "application_types_to_replace = app_counts[app_counts < 528].index.tolist()\n",
    "\n",
    "# Replace in dataframe\n",
    "for app in application_types_to_replace:\n",
    "    application_df['APPLICATION_TYPE'] = application_df['APPLICATION_TYPE'].replace(app,\"Other\")\n",
    "\n",
    "# Check to make sure binning was successful\n",
    "application_df['APPLICATION_TYPE'].value_counts()"
   ]
  },
  {
   "cell_type": "code",
   "execution_count": 6,
   "metadata": {},
   "outputs": [
    {
     "data": {
      "text/plain": [
       "C1000    17326\n",
       "C2000     6074\n",
       "C1200     4837\n",
       "C3000     1918\n",
       "C2100     1883\n",
       "         ...  \n",
       "C4120        1\n",
       "C8210        1\n",
       "C2561        1\n",
       "C4500        1\n",
       "C2150        1\n",
       "Name: CLASSIFICATION, Length: 71, dtype: int64"
      ]
     },
     "execution_count": 6,
     "metadata": {},
     "output_type": "execute_result"
    }
   ],
   "source": [
    "# Look at CLASSIFICATION value counts for binning\n",
    "class_count = application_df[\"CLASSIFICATION\"].value_counts()\n",
    "\n",
    "class_count"
   ]
  },
  {
   "cell_type": "code",
   "execution_count": 9,
   "metadata": {},
   "outputs": [
    {
     "data": {
      "text/plain": [
       "C1000    17326\n",
       "C2000     6074\n",
       "C1200     4837\n",
       "C3000     1918\n",
       "C2100     1883\n",
       "C7000      777\n",
       "C1700      287\n",
       "C4000      194\n",
       "C5000      116\n",
       "C1270      114\n",
       "C2700      104\n",
       "C2800       95\n",
       "C7100       75\n",
       "C1300       58\n",
       "C1280       50\n",
       "C1230       36\n",
       "C1400       34\n",
       "C7200       32\n",
       "C2300       32\n",
       "C1240       30\n",
       "C8000       20\n",
       "C7120       18\n",
       "C1500       16\n",
       "C1800       15\n",
       "C6000       15\n",
       "C1250       14\n",
       "C8200       11\n",
       "C1238       10\n",
       "C1278       10\n",
       "C1235        9\n",
       "C1237        9\n",
       "C7210        7\n",
       "C2400        6\n",
       "C1720        6\n",
       "C4100        6\n",
       "C1257        5\n",
       "C1600        5\n",
       "C1260        3\n",
       "C2710        3\n",
       "C0           3\n",
       "C3200        2\n",
       "C1234        2\n",
       "C1246        2\n",
       "C1267        2\n",
       "C1256        2\n",
       "Name: CLASSIFICATION, dtype: int64"
      ]
     },
     "execution_count": 9,
     "metadata": {},
     "output_type": "execute_result"
    }
   ],
   "source": [
    "# You may find it helpful to look at CLASSIFICATION value counts >1\n",
    "classification = class_count[class_count > 1]\n",
    "classification"
   ]
  },
  {
   "cell_type": "code",
   "execution_count": 10,
   "metadata": {},
   "outputs": [
    {
     "data": {
      "text/plain": [
       "C1000    17326\n",
       "C2000     6074\n",
       "C1200     4837\n",
       "Other     2261\n",
       "C3000     1918\n",
       "C2100     1883\n",
       "Name: CLASSIFICATION, dtype: int64"
      ]
     },
     "execution_count": 10,
     "metadata": {},
     "output_type": "execute_result"
    }
   ],
   "source": [
    "# Choose a cutoff value and create a list of classifications to be replaced\n",
    "# use the variable name `classifications_to_replace`\n",
    "classifications_to_replace = class_count[class_count < 1883].index.tolist()\n",
    "\n",
    "# Replace in dataframe\n",
    "for cls in classifications_to_replace:\n",
    "    application_df['CLASSIFICATION'] = application_df['CLASSIFICATION'].replace(cls,\"Other\")\n",
    "    \n",
    "# Check to make sure binning was successful\n",
    "application_df['CLASSIFICATION'].value_counts()"
   ]
  },
  {
   "cell_type": "code",
   "execution_count": 11,
   "metadata": {},
   "outputs": [],
   "source": [
    "# Convert categorical data to numeric with `pd.get_dummies`\n",
    "dummies_df = pd.get_dummies(application_df)"
   ]
  },
  {
   "cell_type": "code",
   "execution_count": 12,
   "metadata": {},
   "outputs": [],
   "source": [
    "# Split our preprocessed data into our features and target arrays\n",
    "y = dummies_df['IS_SUCCESSFUL'].values\n",
    "X = dummies_df.drop(columns='IS_SUCCESSFUL').values\n",
    "\n",
    "\n",
    "# Split the preprocessed data into a training and testing dataset\n",
    "X_train, X_test, y_train, y_test= train_test_split(X, y, random_state=1)"
   ]
  },
  {
   "cell_type": "code",
   "execution_count": 13,
   "metadata": {},
   "outputs": [],
   "source": [
    "# Create a StandardScaler instances\n",
    "scaler = StandardScaler()\n",
    "\n",
    "# Fit the StandardScaler\n",
    "X_scaler = scaler.fit(X_train)\n",
    "\n",
    "# Scale the data\n",
    "X_train_scaled = X_scaler.transform(X_train)\n",
    "X_test_scaled = X_scaler.transform(X_test)"
   ]
  },
  {
   "cell_type": "markdown",
   "metadata": {},
   "source": [
    "## Compile, Train and Evaluate the Model"
   ]
  },
  {
   "cell_type": "code",
   "execution_count": 1,
   "metadata": {},
   "outputs": [
    {
     "ename": "NameError",
     "evalue": "name 'X_train' is not defined",
     "output_type": "error",
     "traceback": [
      "\u001b[0;31m---------------------------------------------------------------------------\u001b[0m",
      "\u001b[0;31mNameError\u001b[0m                                 Traceback (most recent call last)",
      "Cell \u001b[0;32mIn[1], line 2\u001b[0m\n\u001b[1;32m      1\u001b[0m \u001b[38;5;66;03m# Define the model - deep neural net, i.e., the number of input features and hidden nodes for each layer.\u001b[39;00m\n\u001b[0;32m----> 2\u001b[0m \u001b[38;5;28minput\u001b[39m \u001b[38;5;241m=\u001b[39m \u001b[38;5;28mlen\u001b[39m(\u001b[43mX_train\u001b[49m[\u001b[38;5;241m0\u001b[39m])\n\u001b[1;32m      4\u001b[0m nodes1 \u001b[38;5;241m=\u001b[39m \u001b[38;5;241m80\u001b[39m\n\u001b[1;32m      5\u001b[0m nodes2 \u001b[38;5;241m=\u001b[39m \u001b[38;5;241m50\u001b[39m\n",
      "\u001b[0;31mNameError\u001b[0m: name 'X_train' is not defined"
     ]
    }
   ],
   "source": [
    "# Define the model - deep neural net, i.e., the number of input features and hidden nodes for each layer.\n",
    "input = len(X_train[0])\n",
    "\n",
    "nodes1 = 80\n",
    "nodes2 = 50\n",
    "nodes3 = 30\n",
    "nodes4 = 10\n",
    "\n",
    "nn = tf.keras.models.Sequential()\n",
    "\n",
    "# First hidden layer\n",
    "nn.add(tf.keras.layers.Dense(units=nodes1, input_dim=input, activation=\"relu\"))\n",
    "\n",
    "# Second hidden layer\n",
    "nn.add(tf.keras.layers.Dense(units=nodes2, activation=\"relu\"))\n",
    "\n",
    "# Third hidden layer\n",
    "nn.add(tf.keras.layers.Dense(units=nodes3, activation=\"relu\"))\n",
    "\n",
    "# Fourth hidden layer\n",
    "nn.add(tf.keras.layers.Dense(units=nodes4, activation=\"relu\"))\n",
    "\n",
    "# Output layer\n",
    "nn.add(tf.keras.layers.Dense(units=1, activation=\"sigmoid\"))\n",
    "\n",
    "# Check the structure of the model\n",
    "nn.summary()"
   ]
  },
  {
   "cell_type": "code",
   "execution_count": 15,
   "metadata": {},
   "outputs": [],
   "source": [
    "# Compile the model\n",
    "nn.compile(loss=\"binary_crossentropy\", optimizer=\"adam\", metrics=[\"accuracy\"])"
   ]
  },
  {
   "cell_type": "code",
   "execution_count": 16,
   "metadata": {},
   "outputs": [
    {
     "name": "stdout",
     "output_type": "stream",
     "text": [
      "Epoch 1/100\n",
      "804/804 [==============================] - 4s 2ms/step - loss: 0.5718 - accuracy: 0.7198\n",
      "Epoch 2/100\n",
      "804/804 [==============================] - 1s 2ms/step - loss: 0.5561 - accuracy: 0.7295\n",
      "Epoch 3/100\n",
      "804/804 [==============================] - 1s 2ms/step - loss: 0.5514 - accuracy: 0.7299\n",
      "Epoch 4/100\n",
      "804/804 [==============================] - 1s 2ms/step - loss: 0.5510 - accuracy: 0.7314\n",
      "Epoch 5/100\n",
      "804/804 [==============================] - 1s 2ms/step - loss: 0.5495 - accuracy: 0.7301\n",
      "Epoch 6/100\n",
      "804/804 [==============================] - 1s 2ms/step - loss: 0.5479 - accuracy: 0.7324\n",
      "Epoch 7/100\n",
      "804/804 [==============================] - 1s 2ms/step - loss: 0.5480 - accuracy: 0.7317\n",
      "Epoch 8/100\n",
      "804/804 [==============================] - 1s 2ms/step - loss: 0.5469 - accuracy: 0.7323\n",
      "Epoch 9/100\n",
      "804/804 [==============================] - 1s 2ms/step - loss: 0.5467 - accuracy: 0.7332\n",
      "Epoch 10/100\n",
      "804/804 [==============================] - 1s 2ms/step - loss: 0.5458 - accuracy: 0.7341\n",
      "Epoch 11/100\n",
      "804/804 [==============================] - 1s 2ms/step - loss: 0.5454 - accuracy: 0.7332\n",
      "Epoch 12/100\n",
      "804/804 [==============================] - 1s 2ms/step - loss: 0.5450 - accuracy: 0.7346\n",
      "Epoch 13/100\n",
      "804/804 [==============================] - 1s 2ms/step - loss: 0.5451 - accuracy: 0.7348\n",
      "Epoch 14/100\n",
      "804/804 [==============================] - 1s 2ms/step - loss: 0.5446 - accuracy: 0.7343\n",
      "Epoch 15/100\n",
      "804/804 [==============================] - 1s 2ms/step - loss: 0.5440 - accuracy: 0.7353\n",
      "Epoch 16/100\n",
      "804/804 [==============================] - 1s 2ms/step - loss: 0.5434 - accuracy: 0.7365\n",
      "Epoch 17/100\n",
      "804/804 [==============================] - 1s 2ms/step - loss: 0.5433 - accuracy: 0.7362\n",
      "Epoch 18/100\n",
      "804/804 [==============================] - 1s 2ms/step - loss: 0.5430 - accuracy: 0.7358\n",
      "Epoch 19/100\n",
      "804/804 [==============================] - 1s 2ms/step - loss: 0.5428 - accuracy: 0.7362\n",
      "Epoch 20/100\n",
      "804/804 [==============================] - 1s 2ms/step - loss: 0.5421 - accuracy: 0.7359\n",
      "Epoch 21/100\n",
      "804/804 [==============================] - 1s 2ms/step - loss: 0.5421 - accuracy: 0.7362\n",
      "Epoch 22/100\n",
      "804/804 [==============================] - 1s 2ms/step - loss: 0.5419 - accuracy: 0.7368\n",
      "Epoch 23/100\n",
      "804/804 [==============================] - 1s 2ms/step - loss: 0.5415 - accuracy: 0.7366\n",
      "Epoch 24/100\n",
      "804/804 [==============================] - 1s 2ms/step - loss: 0.5417 - accuracy: 0.7380\n",
      "Epoch 25/100\n",
      "804/804 [==============================] - 1s 2ms/step - loss: 0.5416 - accuracy: 0.7371\n",
      "Epoch 26/100\n",
      "804/804 [==============================] - 1s 2ms/step - loss: 0.5412 - accuracy: 0.7369\n",
      "Epoch 27/100\n",
      "804/804 [==============================] - 1s 2ms/step - loss: 0.5411 - accuracy: 0.7379\n",
      "Epoch 28/100\n",
      "804/804 [==============================] - 1s 2ms/step - loss: 0.5412 - accuracy: 0.7364\n",
      "Epoch 29/100\n",
      "804/804 [==============================] - 1s 2ms/step - loss: 0.5402 - accuracy: 0.7375\n",
      "Epoch 30/100\n",
      "804/804 [==============================] - 1s 2ms/step - loss: 0.5402 - accuracy: 0.7370\n",
      "Epoch 31/100\n",
      "804/804 [==============================] - 1s 2ms/step - loss: 0.5407 - accuracy: 0.7385\n",
      "Epoch 32/100\n",
      "804/804 [==============================] - 1s 2ms/step - loss: 0.5404 - accuracy: 0.7376\n",
      "Epoch 33/100\n",
      "804/804 [==============================] - 1s 2ms/step - loss: 0.5398 - accuracy: 0.7370\n",
      "Epoch 34/100\n",
      "804/804 [==============================] - 1s 2ms/step - loss: 0.5396 - accuracy: 0.7383\n",
      "Epoch 35/100\n",
      "804/804 [==============================] - 1s 2ms/step - loss: 0.5393 - accuracy: 0.7383\n",
      "Epoch 36/100\n",
      "804/804 [==============================] - 1s 2ms/step - loss: 0.5397 - accuracy: 0.7374\n",
      "Epoch 37/100\n",
      "804/804 [==============================] - 1s 2ms/step - loss: 0.5391 - accuracy: 0.7393\n",
      "Epoch 38/100\n",
      "804/804 [==============================] - 1s 2ms/step - loss: 0.5395 - accuracy: 0.7378\n",
      "Epoch 39/100\n",
      "804/804 [==============================] - 1s 2ms/step - loss: 0.5395 - accuracy: 0.7383\n",
      "Epoch 40/100\n",
      "804/804 [==============================] - 1s 2ms/step - loss: 0.5389 - accuracy: 0.7386\n",
      "Epoch 41/100\n",
      "804/804 [==============================] - 1s 2ms/step - loss: 0.5388 - accuracy: 0.7390\n",
      "Epoch 42/100\n",
      "804/804 [==============================] - 1s 2ms/step - loss: 0.5385 - accuracy: 0.7377\n",
      "Epoch 43/100\n",
      "804/804 [==============================] - 1s 2ms/step - loss: 0.5383 - accuracy: 0.7393\n",
      "Epoch 44/100\n",
      "804/804 [==============================] - 1s 2ms/step - loss: 0.5385 - accuracy: 0.7381\n",
      "Epoch 45/100\n",
      "804/804 [==============================] - 1s 2ms/step - loss: 0.5384 - accuracy: 0.7380\n",
      "Epoch 46/100\n",
      "804/804 [==============================] - 1s 2ms/step - loss: 0.5383 - accuracy: 0.7397\n",
      "Epoch 47/100\n",
      "804/804 [==============================] - 1s 2ms/step - loss: 0.5378 - accuracy: 0.7395\n",
      "Epoch 48/100\n",
      "804/804 [==============================] - 1s 2ms/step - loss: 0.5380 - accuracy: 0.7379\n",
      "Epoch 49/100\n",
      "804/804 [==============================] - 1s 2ms/step - loss: 0.5376 - accuracy: 0.7392\n",
      "Epoch 50/100\n",
      "804/804 [==============================] - 1s 2ms/step - loss: 0.5378 - accuracy: 0.7382\n",
      "Epoch 51/100\n",
      "804/804 [==============================] - 1s 2ms/step - loss: 0.5378 - accuracy: 0.7391\n",
      "Epoch 52/100\n",
      "804/804 [==============================] - 1s 2ms/step - loss: 0.5377 - accuracy: 0.7390\n",
      "Epoch 53/100\n",
      "804/804 [==============================] - 1s 2ms/step - loss: 0.5377 - accuracy: 0.7390\n",
      "Epoch 54/100\n",
      "804/804 [==============================] - 1s 2ms/step - loss: 0.5375 - accuracy: 0.7392\n",
      "Epoch 55/100\n",
      "804/804 [==============================] - 1s 2ms/step - loss: 0.5375 - accuracy: 0.7386\n",
      "Epoch 56/100\n",
      "804/804 [==============================] - 1s 2ms/step - loss: 0.5370 - accuracy: 0.7390\n",
      "Epoch 57/100\n",
      "804/804 [==============================] - 1s 2ms/step - loss: 0.5371 - accuracy: 0.7384\n",
      "Epoch 58/100\n",
      "804/804 [==============================] - 1s 2ms/step - loss: 0.5369 - accuracy: 0.7396\n",
      "Epoch 59/100\n",
      "804/804 [==============================] - 1s 2ms/step - loss: 0.5372 - accuracy: 0.7393\n",
      "Epoch 60/100\n",
      "804/804 [==============================] - 1s 2ms/step - loss: 0.5368 - accuracy: 0.7393\n",
      "Epoch 61/100\n",
      "804/804 [==============================] - 1s 2ms/step - loss: 0.5365 - accuracy: 0.7397\n",
      "Epoch 62/100\n",
      "804/804 [==============================] - 1s 2ms/step - loss: 0.5371 - accuracy: 0.7393\n",
      "Epoch 63/100\n",
      "804/804 [==============================] - 1s 2ms/step - loss: 0.5366 - accuracy: 0.7395\n",
      "Epoch 64/100\n",
      "804/804 [==============================] - 1s 2ms/step - loss: 0.5365 - accuracy: 0.7399\n",
      "Epoch 65/100\n",
      "804/804 [==============================] - 1s 2ms/step - loss: 0.5364 - accuracy: 0.7394\n",
      "Epoch 66/100\n",
      "804/804 [==============================] - 1s 2ms/step - loss: 0.5364 - accuracy: 0.7393\n",
      "Epoch 67/100\n",
      "804/804 [==============================] - 1s 2ms/step - loss: 0.5362 - accuracy: 0.7403\n",
      "Epoch 68/100\n",
      "804/804 [==============================] - 2s 2ms/step - loss: 0.5368 - accuracy: 0.7390\n",
      "Epoch 69/100\n",
      "804/804 [==============================] - 2s 2ms/step - loss: 0.5363 - accuracy: 0.7396\n",
      "Epoch 70/100\n",
      "804/804 [==============================] - 3s 4ms/step - loss: 0.5361 - accuracy: 0.7393\n",
      "Epoch 71/100\n",
      "804/804 [==============================] - 2s 2ms/step - loss: 0.5360 - accuracy: 0.7398\n",
      "Epoch 72/100\n",
      "804/804 [==============================] - 1s 2ms/step - loss: 0.5363 - accuracy: 0.7391\n",
      "Epoch 73/100\n",
      "804/804 [==============================] - 1s 2ms/step - loss: 0.5360 - accuracy: 0.7399\n",
      "Epoch 74/100\n",
      "804/804 [==============================] - 1s 2ms/step - loss: 0.5358 - accuracy: 0.7405\n",
      "Epoch 75/100\n",
      "804/804 [==============================] - 1s 2ms/step - loss: 0.5358 - accuracy: 0.7396\n",
      "Epoch 76/100\n",
      "804/804 [==============================] - 1s 2ms/step - loss: 0.5357 - accuracy: 0.7395\n",
      "Epoch 77/100\n",
      "804/804 [==============================] - 1s 2ms/step - loss: 0.5359 - accuracy: 0.7398\n",
      "Epoch 78/100\n",
      "804/804 [==============================] - 1s 2ms/step - loss: 0.5354 - accuracy: 0.7390\n",
      "Epoch 79/100\n",
      "804/804 [==============================] - 1s 2ms/step - loss: 0.5355 - accuracy: 0.7396\n",
      "Epoch 80/100\n",
      "804/804 [==============================] - 1s 2ms/step - loss: 0.5353 - accuracy: 0.7396\n",
      "Epoch 81/100\n",
      "804/804 [==============================] - 1s 2ms/step - loss: 0.5356 - accuracy: 0.7400\n",
      "Epoch 82/100\n",
      "804/804 [==============================] - 1s 2ms/step - loss: 0.5352 - accuracy: 0.7403\n",
      "Epoch 83/100\n",
      "804/804 [==============================] - 1s 2ms/step - loss: 0.5353 - accuracy: 0.7399\n",
      "Epoch 84/100\n",
      "804/804 [==============================] - 1s 2ms/step - loss: 0.5352 - accuracy: 0.7402\n",
      "Epoch 85/100\n",
      "804/804 [==============================] - 1s 2ms/step - loss: 0.5352 - accuracy: 0.7399\n",
      "Epoch 86/100\n",
      "804/804 [==============================] - 1s 2ms/step - loss: 0.5356 - accuracy: 0.7403\n",
      "Epoch 87/100\n",
      "804/804 [==============================] - 1s 2ms/step - loss: 0.5352 - accuracy: 0.7397\n",
      "Epoch 88/100\n",
      "804/804 [==============================] - 1s 2ms/step - loss: 0.5350 - accuracy: 0.7398\n",
      "Epoch 89/100\n",
      "804/804 [==============================] - 1s 2ms/step - loss: 0.5351 - accuracy: 0.7396\n",
      "Epoch 90/100\n",
      "804/804 [==============================] - 1s 2ms/step - loss: 0.5348 - accuracy: 0.7395\n",
      "Epoch 91/100\n",
      "804/804 [==============================] - 1s 2ms/step - loss: 0.5348 - accuracy: 0.7402\n",
      "Epoch 92/100\n",
      "804/804 [==============================] - 1s 2ms/step - loss: 0.5352 - accuracy: 0.7391\n",
      "Epoch 93/100\n",
      "804/804 [==============================] - 1s 2ms/step - loss: 0.5348 - accuracy: 0.7403\n",
      "Epoch 94/100\n",
      "804/804 [==============================] - 1s 2ms/step - loss: 0.5347 - accuracy: 0.7397\n",
      "Epoch 95/100\n",
      "804/804 [==============================] - 1s 2ms/step - loss: 0.5346 - accuracy: 0.7406\n",
      "Epoch 96/100\n",
      "804/804 [==============================] - 1s 2ms/step - loss: 0.5348 - accuracy: 0.7410\n",
      "Epoch 97/100\n",
      "804/804 [==============================] - 1s 2ms/step - loss: 0.5345 - accuracy: 0.7400\n",
      "Epoch 98/100\n",
      "804/804 [==============================] - 1s 2ms/step - loss: 0.5347 - accuracy: 0.7403\n",
      "Epoch 99/100\n",
      "804/804 [==============================] - 1s 2ms/step - loss: 0.5343 - accuracy: 0.7400\n",
      "Epoch 100/100\n",
      "804/804 [==============================] - 1s 2ms/step - loss: 0.5348 - accuracy: 0.7397\n"
     ]
    }
   ],
   "source": [
    "# Train the model\n",
    "model = nn.fit(X_train_scaled, y_train, epochs=100)"
   ]
  },
  {
   "cell_type": "code",
   "execution_count": 17,
   "metadata": {},
   "outputs": [
    {
     "name": "stdout",
     "output_type": "stream",
     "text": [
      "268/268 - 0s - loss: 0.5602 - accuracy: 0.7289 - 478ms/epoch - 2ms/step\n",
      "Loss: 0.5601716637611389, Accuracy: 0.728863000869751\n"
     ]
    }
   ],
   "source": [
    "# Evaluate the model using the test data\n",
    "model_loss, model_accuracy = nn.evaluate(X_test_scaled,y_test,verbose=2)\n",
    "print(f\"Loss: {model_loss}, Accuracy: {model_accuracy}\")"
   ]
  },
  {
   "cell_type": "code",
   "execution_count": null,
   "metadata": {},
   "outputs": [],
   "source": [
    "# Export our model to HDF5 file\n",
    "nn.save(\"alpasoup.h5\")"
   ]
  },
  {
   "cell_type": "code",
   "execution_count": null,
   "metadata": {},
   "outputs": [],
   "source": []
  },
  {
   "cell_type": "code",
   "execution_count": null,
   "metadata": {},
   "outputs": [],
   "source": []
  }
 ],
 "metadata": {
  "kernelspec": {
   "display_name": "conda_tensorflow2_p310",
   "language": "python",
   "name": "conda_tensorflow2_p310"
  },
  "language_info": {
   "codemirror_mode": {
    "name": "ipython",
    "version": 3
   },
   "file_extension": ".py",
   "mimetype": "text/x-python",
   "name": "python",
   "nbconvert_exporter": "python",
   "pygments_lexer": "ipython3",
   "version": "3.10.12"
  },
  "vscode": {
   "interpreter": {
    "hash": "31f2aee4e71d21fbe5cf8b01ff0e069b9275f58929596ceb00d14d90e3e16cd6"
   }
  }
 },
 "nbformat": 4,
 "nbformat_minor": 4
}
